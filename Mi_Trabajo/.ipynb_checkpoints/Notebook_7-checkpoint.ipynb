{
 "cells": [
  {
   "cell_type": "markdown",
   "metadata": {},
   "source": [
    "# Notebook 7 - Crear y consultar una Base de Datos no relacional orientada a Documentos (Mongo)"
   ]
  },
  {
   "cell_type": "markdown",
   "metadata": {},
   "source": [
    "## Ejercicio 1: Primeros pasos desde Mongo CLI"
   ]
  },
  {
   "cell_type": "markdown",
   "metadata": {},
   "source": [
    "En un terminal, verificar si el SGBD Mongo ya está iniciado:\n",
    "\n",
    "<code>ps -aux | grep mongod</code>\n",
    "\n",
    "Si no está iniciado, iniciarlo con el comando: <code>mongod</code>\n",
    "\n",
    "Luego, abrir otra pestaña de terminal (CTRL + Shift + T) e iniciar el cliente CLI de mongo: <code>mongo</code>."
   ]
  },
  {
   "cell_type": "markdown",
   "metadata": {},
   "source": [
    "1) Creamos una nueva base de datos llamado <b>nb7-peliculas</b>\n",
    "\n",
    "<code>use nb7-peliculas</code>\n",
    "\n",
    "Deberian ver como respuesta del sistema la respuesta: \"switched to db nb7-peliculas\""
   ]
  },
  {
   "cell_type": "markdown",
   "metadata": {},
   "source": [
    "Mongo CLI no utiliza SQL para realizar operaciones CRUD (Create/Read/Update/Delete), utiliza su propia API parecida al lenguaje Javascript.\n",
    "\n",
    "La variable <code>db</code> representa siempre la base de datos que estamos utilizando (en este caso \"nb7-peliculas\").\n",
    "\n",
    "2) Creamos una colección <b>actors</b>\n",
    "\n",
    "<code>db.actors.insert({firstname:\"Will\", lastname:\"Smith\"})</code>\n",
    "\n",
    "Como pueden verlo, para crear la colección no tuvimos que definir la estructura de la colección, simplemente hemos insertado un documento.\n",
    "\n",
    "Verificamos que hemos realmente creado la coleccion con:\n",
    "\n",
    "<code>db.actors.find()</code>\n",
    "\n",
    "3) Insertamos varios documentos en la colección en un solo comando:\n",
    "\n",
    "<code>db.actors.insertMany([{firstname:\"Scarlett\", lastname:\"Johanson\"},{firstname:\"Matt\", lastname:\"Damon\"},{firstname:\"Nathan\", lastname:\"Smith\"}])</code>\n",
    "\n",
    "4) Contamos cuántos documentos tenemos en la colección:\n",
    "\n",
    "<code>db.actors.count()</code>\n",
    "\n",
    "Como en SQL, la API de Mongo permite construir consultas para filtrar, ordenar o agrupar datos. Sin embargo, la síntaxis es distinta (y amenudo menos simple e intuitiva que SQL).\n",
    "\n",
    "5) Filtramos los actores que se llaman 'Smith'\n",
    "\n",
    "<code>db.actors.find({lastname:\"Smith\"})</code>\n",
    "\n",
    "Mongo tambien permite modificar los datos (ojo: Mongo no tiene mecanismo interno para asegurar la coherencia de los datos, es la responsabilidad del programador de la aplicación).\n",
    "\n",
    "6) Actualizamos un documento. Por ejemplo, \"Nathan Smith\" se llama ahora \"Nathan Lane\"\n",
    "\n",
    "<code>db.actors.update({firstname:\"Nathan\", lastname:\"Smith\"},{$set : {lastname:\"Lane\"}})</code>\n",
    "\n",
    "Este último comando va a actualizar el primer documento encontrado que corresponde al filtro definido.\n",
    "\n",
    "7) Supongamos ahora que queremos agregar un campo \"gender\" en todos los documentos:\n",
    "\n",
    "¿Qué hace el comando siguiente? ¿Cuál es el limite?\n",
    "\n",
    "<code>db.actors.update({},{$set : {gender:\"M\"}})</code>\n",
    "\n",
    "Para actualizar todos los documentos, y no simplemente el primero, podemos utilizar el comando:\n",
    "\n",
    "<code>db.actors.update({},{$set : {gender:\"M\"}},{multi:true})</code>\n",
    "\n",
    "8) Actualizar el documento \"Scarlett Johanson\", para indicar que es una mujer (gender:\"F\").\n",
    "\n",
    "9) Para suprimir un atributo, podemos utilizar el operador $unset. Por ejemplo:\n",
    "    \n",
    "<code>db.actors.update({},{$unset : {gender:1}},{multi:true})</code>\n",
    "\n",
    "10) Para suprimir un documento completo, podemos utilizar el comando:\n",
    "\n",
    "<code>db.actors.remove({lastname:\"Smith\"})</code>\n",
    "\n",
    "11) Agregamos un atributo de tipo arreglo en un documento\n",
    "\n",
    "<code>db.actors.update({firstname:\"Matt\"},{$set : {tab:[1,\"a\"]}})</code>\n",
    "\n",
    "12) Añadimos un valor en el arreglo con el operator $push\n",
    "\n",
    "<code>db.actors.update({firstname:\"Matt\"},{$push : {tab:[\"new_value\"]}})</code>\n",
    "\n",
    "¿Cuál es el problema con el último comando? ¿Cuál es la diferencia con el comando siguiente?\n",
    "\n",
    "<code>db.actors.update({firstname:\"Matt\"},{$push : {tab:\"new_value\"}})</code>\n",
    "\n",
    "Cómo pueden verlo el SGBD no relacional Mongo es mucho más flexible que MySQL, pero deja mucho más posibilidad de equivocarse.\n",
    "\n",
    "\n",
    "No duden en consultar la documentación de Mongo para probar otros comandos CRUD: https://docs.mongodb.com/manual/crud/\n"
   ]
  },
  {
   "cell_type": "markdown",
   "metadata": {},
   "source": [
    "## Ejercicio 2: Primeras consultas avanzadas con una colección de peliculas\n",
    "\n",
    "En este segundo ejercicio, trabajaremos con una base de datos existente llamada \"movie details\", la cual tiene 2295 documentos JSON resumiendo información sobre peliculas.\n",
    "\n",
    "- Descargar el dataset https://raw.githubusercontent.com/steveren/docs-assets/charts-tutorial/movieDetails.json. ¿Qué contiene este archivo? Un documento JSON? Un arreglo de documentos JSON? Una lista de documentos JSON?\n",
    "\n",
    "- Importamos los datos en Mongo con el comando siguiente:\n",
    "\n",
    "<code>mongoimport --db nb7-peliculas --collection movieDetails --drop --file <path/to/movieDetails.json></code>\n",
    "\n",
    "A continuación, queremos realizar algunas consultas típicas para observar la diferencia entre el lenguaje de consulta SQL y el lenguaje de Mongo.\n",
    "\n",
    "<b>Nota bena</b>: ¿Qué pasa si agregan la función <code>.pretty()</code> al final de un comando? Por ejemplo: <code>db.actors.find().pretty()</code>\n",
    "\n",
    "1) Utilizar un comando Mongo para contar cuántos documentos hay en la colección 'movieDetails'. ¿Cuál sería el equivalente en SQL?\n",
    "\n",
    "2) Mostrar los títulos (title) y años de producción (year) de todas las peliculas de la colección. ¿A qué clausula SQL correspondría?\n",
    "\n",
    "3) Contar las peliculas realizadas entre 1990 y 2000\n",
    "\n",
    "4) ¿Cuáles son los titulos de peliculas que ganaron más de 5 awards?\n",
    "\n",
    "5) ¿Cuál es el rating promedio en el sitio imdb para todas las peliculas?\n",
    "\n",
    "6) ¿Cuáles son las peliculas en las cuales participó el actor Nicolas Cage?\n",
    "\n",
    "7) ¿Cuál es el número de pelicula por año?\n",
    "\n",
    "8) ¿Cuál es la pelicula con el mejor rating?\n",
    "\n",
    "9) ¿Cuáles son los thrillers con un rating de al meno 6?\n",
    "\n",
    "10) ¿Cuáles son todos los valores de generos posibles?\n",
    "\n",
    "11) ¿Cuáles son las peliculas que contienen la palabra 'Star'?\n",
    "\n",
    "12) ¿Cuáles son los títulos que empiezan con la letra 'T'?\n",
    "\n",
    "13) ¿Cuáles son las peliculas que no son de tipo Drama o Thriller?\n"
   ]
  },
  {
   "cell_type": "markdown",
   "metadata": {},
   "source": [
    "Respuestas Ejercicio 2)\n",
    "\n",
    " 1) db.movieDetails.count() --> 2295 \n",
    " 2) db.movieDetails.find( {} , {title:1, year:1} )\n",
    " 3) db.movieDetails.count({$and:[{year:{$gte:1990}},{year: {$lte:2000}}]}) --> 372\n",
    " 4) db.movieDetails.find({\"awards.wind\":{$gt:5}},{title:1, \"awards.wind:1\"})"
   ]
  },
  {
   "cell_type": "markdown",
   "metadata": {},
   "source": [
    "## Ejercicio 3: Integrar Mongo con Python\n",
    "\n",
    "Desde un entorno Python, conectarse a su base de datos movieDetails y realizar consultas similares al ejercicio 2."
   ]
  },
  {
   "cell_type": "markdown",
   "metadata": {},
   "source": [
    "## Ejercicio 4: Conceptos avanzados de Mongo\n",
    "\n",
    "A partir del manual de Mongo (https://docs.mongodb.com/manual/), ¿pueden definir los conceptos siguientes?\n",
    "\n",
    "- <b>Indíces</b> (Indexes). ¿Cuáles son los tipos de indices en Mongo? ¿De qué sirven?\n",
    "- <b>Transacciones</b> (Transactions). ¿Cuáles son las principales caracteristicas de las transacciones en Mongo y sus diferencias con MySQL?\n",
    "- <b>Sharding</b>\n",
    "- <b>Replication</b>\n"
   ]
  },
  {
   "cell_type": "code",
   "execution_count": null,
   "metadata": {},
   "outputs": [],
   "source": []
  }
 ],
 "metadata": {
  "kernelspec": {
   "display_name": "Python 3",
   "language": "python",
   "name": "python3"
  },
  "language_info": {
   "codemirror_mode": {
    "name": "ipython",
    "version": 3
   },
   "file_extension": ".py",
   "mimetype": "text/x-python",
   "name": "python",
   "nbconvert_exporter": "python",
   "pygments_lexer": "ipython3",
   "version": "3.6.7"
  }
 },
 "nbformat": 4,
 "nbformat_minor": 2
}
