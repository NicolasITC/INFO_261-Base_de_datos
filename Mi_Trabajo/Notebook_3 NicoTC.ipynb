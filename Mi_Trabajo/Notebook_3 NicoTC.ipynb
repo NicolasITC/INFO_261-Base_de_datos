{
 "cells": [
  {
   "cell_type": "markdown",
   "metadata": {},
   "source": [
    "# Notebook 3: Operaciones de Administración de Base de Datos relacional"
   ]
  },
  {
   "cell_type": "markdown",
   "metadata": {},
   "source": [
    "En el ciclo de vida de una base de datos relacional, a menudo el administrador de la BD tiene que realizar ciertas operaciones de mantención. Mencionamos en particular:\n",
    "\n",
    "1- Realizar una copia de seguridad de los datos\n",
    "\n",
    "2- Crear usuarios y definir permisos de acceso a la BD\n",
    "\n",
    "3- Modificar la estructura de la BD\n",
    "\n",
    "4- Agregar restricciones o reglas de integridad sobre la estructura de los datos"
   ]
  },
  {
   "cell_type": "markdown",
   "metadata": {},
   "source": [
    "## Ejercicio 1: Crear una BD de prueba básica"
   ]
  },
  {
   "cell_type": "markdown",
   "metadata": {},
   "source": [
    "Para realizar los ejercicios siguientes, primero vamos a crear una BD de prueba básica, llamada \"Valdivia\". Esta base de datos está constituida por 3 tablas:\n",
    "\n",
    "- PERSONA(pk_RUT, Nombre, Edad)   (ej.: \"1, Juan, 20\")\n",
    "\n",
    "- LUGAR_DE_INTERES(pk_Lugar, Descripcion, Categoria, Latitud, Longitud)  (ej.; \"1, Mercado Fluvial, Turismo, -39.81, -73.24\")\n",
    "\n",
    "- DESPLAZARSE(#pk_RUT, fecha, Latitud, Longitud)  (ej. \"1, 30/09/2018 12:00:00, -39, -70\")"
   ]
  },
  {
   "cell_type": "markdown",
   "metadata": {},
   "source": [
    "1) Implementar la estructura de esta base de datos en MySQL indicando las claves primarias y foraneas y los tipos de datos\n",
    "\n",
    "2) Insertar al menos 5 filas en cada tabla\n",
    "\n",
    "3) ¿A qué tipo de aplicación podría servir esta base de datos?"
   ]
  },
  {
   "cell_type": "markdown",
   "metadata": {},
   "source": [
    "### Respuestas Ejercicio 1:\n",
    "\n",
    "1)  Implementación en MYSQL\n",
    "\n",
    "    CREATE TABLE PERSONA (\n",
    "        pk_RUT INT,\n",
    "        Nombre VARCHAR(30),\n",
    "        Edad INT, \n",
    "        PRIMARY KEY (pk_RUT));\n",
    "   \n",
    "    CREATE TABLE LUGAR_DE_INTERES (\n",
    "        pk_Lugar INT,\n",
    "        Descripcion VARCHAR(30),\n",
    "        Categoria VARCHAR(30),\n",
    "        Latitud FLOAT,\n",
    "        Longitud FLOAT,\n",
    "        PRIMARY KEY (pk_Lugar));\n",
    "    \n",
    "    CREATE TABLE DESPLAZARSE( \n",
    "        pk_RUT INT,\n",
    "        fecha DATETIME(6), \n",
    "        Latitud FLOAT,\n",
    "        Longitud FLOAT,\n",
    "        FOREIGN KEY (pk_RUT) REFERENCES PERSONA(pk_RUT));\n",
    "    \n",
    "2) \n",
    "    INSERT INTO PERSONA( pk_RUT, Nombre, Edad) VALUES (1, \"Juan\", 20)\n",
    "    INSERT INTO PERSONA( pk_RUT, Nombre, Edad) VALUES (2, \"Manuel\", 23)\n",
    "    INSERT INTO PERSONA( pk_RUT, Nombre, Edad) VALUES (3, \"Viejo\", 80)\n",
    "    INSERT INTO PERSONA( pk_RUT, Nombre, Edad) VALUES (4, \"Potricio\", 22)\n",
    "    INSERT INTO PERSONA( pk_RUT, Nombre, Edad) VALUES (5, \"La Ranita\", 23);\n",
    "    \n",
    "    INSERT INTO LUGAR_DE_INTERES (pk_Lugar, Descripcion, Categoria, Latitud, Longitud)\n",
    "     VALUES (1, \"Mercado Fluvial\", \"Turismo\", -39.81, -73.24);\n",
    "    INSERT INTO LUGAR_DE_INTERES (pk_Lugar, Descripcion, Categoria, Latitud, Longitud)\n",
    "     VALUES (2, \"El Mercadito\", \"Negocio\", -100.81, 33.24);\n",
    "    INSERT INTO LUGAR_DE_INTERES (pk_Lugar, Descripcion, Categoria, Latitud, Longitud)\n",
    "     VALUES (3, \"La chunga\", \"Lugar Maravilloso\", -00.81, 4.24);\n",
    "    INSERT INTO LUGAR_DE_INTERES (pk_Lugar, Descripcion, Categoria, Latitud, Longitud)\n",
    "     VALUES (4, \"Shot\", \"Hace show un vedetto guapo\", 15.81, 60.15);\n",
    "    INSERT INTO LUGAR_DE_INTERES (pk_Lugar, Descripcion, Categoria, Latitud, Longitud)\n",
    "     VALUES (5, \"Santa Isabel Ruben Dario\", \"Puros pollos\", 200.81, 100.24);\n",
    "        \n",
    "    INSERT INTO DESPLAZARSE (pk_RUT, fecha, Latitud, Longitud) \n",
    "     VALUES (1, '2018-09-30 12:00:00', -39, -70);\n",
    "    INSERT INTO DESPLAZARSE (pk_RUT, fecha, Latitud, Longitud) \n",
    "     VALUES (2, '2018-12-30 22:00:00', -40, 100);\n",
    "    INSERT INTO DESPLAZARSE (pk_RUT, fecha, Latitud, Longitud) \n",
    "     VALUES (3, '2018-07-30 12:00:13', 79, 70);\n",
    "    INSERT INTO DESPLAZARSE (pk_RUT, fecha, Latitud, Longitud) \n",
    "     VALUES (4, '2018-01-30 12:00:00', -9, 150);\n",
    "    INSERT INTO DESPLAZARSE (pk_RUT, fecha, Latitud, Longitud) \n",
    "     VALUES (5, '2018-02-10 12:40:00', -9, 30);\n",
    "        \n",
    "3) Para una aplicación utilizada por alguna persona que quiera conocer lugares en Valdivia.\n"
   ]
  },
  {
   "cell_type": "markdown",
   "metadata": {},
   "source": [
    "## Ejercicio 2: Realizar una copia de seguridad de una BD y exportar datos"
   ]
  },
  {
   "cell_type": "markdown",
   "metadata": {},
   "source": [
    "<a href=\"https://dev.mysql.com/doc/refman/8.0/en/backup-and-recovery.html\"> Backup and Recovery in MySQL</a>\n",
    "\n",
    "1) ¿Por qué hacer copias de seguridad de su base de datos?\n",
    "\n",
    "2) Utilizar el comando <code>Mysqldump</code> para realizar una copia de su base de datos. ¿Cuál es el <i>output</i> de este comando?\n",
    "\n",
    "3) En algunos casos, queremos simplemente exportar datos para poder utilizarlos en otros contextos. ¿En qué consiste el formato de datos CSV? ¿Cómo exportar datos al formato CSV desde MySQL? (ver: <a href=\"http://www.mysqltutorial.org/mysql-export-table-to-csv/\">Tutorial</a>)"
   ]
  },
  {
   "cell_type": "markdown",
   "metadata": {},
   "source": [
    "### Respuestas Ejercicio 2:\n",
    "1) Para no perder los datos que son de vital importancia para la mayor parte de las \n",
    "   empresas u proyectos.\n",
    "    \n",
    "2)  mysqldump -u root -p Valdivia > RespaldoVAldivia.sql (Respaldo .sql)\n",
    "\n",
    "   -mysqldump -u root -p Valdivia | gzip > Respaldo_Valdivia.sql.gz (Zip en directorio terminal)\n",
    "   \n",
    "3) Es un formato para representar datos de forma sencilla similar a una tabla donde las columnas se separan por punto y coma (;) y las filas por saltos de linea.\n"
   ]
  },
  {
   "cell_type": "markdown",
   "metadata": {},
   "source": [
    "## Ejercicio 3: Gestionar usuarios y privilegios de lectura y escritura\n",
    "\n",
    "En la configuración por defecto de MySQL, existe un sólo usuario, llamado 'root', lo cual tiene todos los derechos. En término de seguridad es muy poco recomendable trabajar siempre con el usuario 'root' (en particular cuando se deja los passwords en el código o un archivo de parametros). \n",
    "\n",
    "1) ¿Cuáles son los tipos de privilegios en una base de datos relacional?\n",
    "\n",
    "2) Crear un nuevo usuario y darle todos los privilegios sobre la base de datos 'Valdivia'\n",
    "\n",
    "3) Crear un nuevo usuario, lo cual tendrá solamente acceso de lectura sobre la tabla Lugar_de_interes y Desplazarse"
   ]
  },
  {
   "cell_type": "markdown",
   "metadata": {},
   "source": [
    "### Respuestas Ejercicio 3:\n",
    "1) Los tipos de privilegios en MySQL son:\n",
    "- Privilegios administrativos los cuales \n",
    "permiten al usuario manejar globalmente cualquier operación en MySQL \n",
    "server, es decir para cualquier base de datos.\n",
    "- Privilegios de una base de datos específica y sus objetos incluidos.\n",
    "- Privilegios para algún objeto específico dentro de una DB, por ejemplo una tabla en particular.\n",
    "\n",
    "2)  Privilegios al usuario \"user\" sobre la DB Valdivia.\n",
    "\n",
    "    CREATE USER 'user'@'localhost' IDENTIFIED BY 'user'; \n",
    "    GRANT ALL PRIVILEGES ON Valdivia to 'user'@'localhost';\n",
    "\n",
    "3) Privilegios de lectura en las tablas \n",
    "\n",
    "    GRANT SELECT ON LUGAR_DE_INTERES to 'user'@'localhost';\n",
    "    GRANT SELECT ON DESPLAZARSE to 'user'@'localhost';\n",
    "\n",
    "\n"
   ]
  },
  {
   "cell_type": "markdown",
   "metadata": {},
   "source": [
    "## Ejercicio 4: Modificar la estructura de una Base de Datos\n",
    "\n",
    "Supongamos que queremos modificar la estructura de la base de datos 'Valdivia'. \n",
    "\n",
    "1) Modificar la BD (sin borrarla) para agregar un campo 'nivel de estudio' en la tabla 'Persona'.\n",
    "\n",
    "2) Modificar la BD (sin borrarla) para dejar la posibilidad de tener varias categorías para describir un lugar de interés (implica crear una tabla adicional)\n",
    "\n",
    "3) Agregar una restricción para que las columnas \"Latitud\" y \"Longitud\" nuncan sean NULL"
   ]
  },
  {
   "cell_type": "markdown",
   "metadata": {},
   "source": [
    "### Respuesta Ejercicio 4:\n",
    "\n",
    "1) Se suma el campo nivel_de_estudio en tabla PERSONA.\n",
    "           \n",
    "       ALTER TABLE PERSONA ADD ( Nivel_de_estudio VARCHAR(30));\n",
    "\n",
    "2) Elimina columna \"Categoria\" de la tabla LUGAR_DE_INTERES.\n",
    "   \n",
    "       ALTER TABLE LUGAR_DE_INTERES DROP COLUMN Categoria; \n",
    "    \n",
    "   Creo una tabla que contendrá las categorías nuevas.\n",
    "       \n",
    "       CREATE TABLE CATEGORIA( \n",
    "           pk_Lugar INT, \n",
    "           cat VARCHAR(30),\n",
    "           FOREIGN KEY (pk_Lugar) \n",
    "           REFERENCES LUGAR_DE_INTERES (pk_Lugar)); \n",
    "\n",
    "3) Cambio lat y long a not NULL;\n",
    "\n",
    "    ALTER TABLE LUGAR_DE_INTERES MODIFY Latitud FLOAT not NULL;\n",
    "\n",
    "    ALTER TABLE LUGAR_DE_INTERES MODIFY Longitud FLOAT not NULL;\n"
   ]
  },
  {
   "cell_type": "markdown",
   "metadata": {},
   "source": [
    "## Ejercicio 5 (opcional): Innovación para Valdivia - Smart City\n",
    "\n",
    "1) Revisar el concurso \"Desafio Smart City\": https://www.innoving.cl/smartcity\n",
    "\n",
    "2) Considerando que la empresa Telefonica del Sur podría darle acceso a ciertos datos telefónicos de la Ciudad, imaginar un escenario de innovación basado sobre una base de datos similar a aquella que creamos."
   ]
  },
  {
   "cell_type": "markdown",
   "metadata": {},
   "source": [
    "### Trabajo realizado en conjunto durante una clase C:"
   ]
  }
 ],
 "metadata": {
  "kernelspec": {
   "display_name": "Python 3",
   "language": "python",
   "name": "python3"
  },
  "language_info": {
   "codemirror_mode": {
    "name": "ipython",
    "version": 3
   },
   "file_extension": ".py",
   "mimetype": "text/x-python",
   "name": "python",
   "nbconvert_exporter": "python",
   "pygments_lexer": "ipython3",
   "version": "3.6.7"
  }
 },
 "nbformat": 4,
 "nbformat_minor": 2
}
